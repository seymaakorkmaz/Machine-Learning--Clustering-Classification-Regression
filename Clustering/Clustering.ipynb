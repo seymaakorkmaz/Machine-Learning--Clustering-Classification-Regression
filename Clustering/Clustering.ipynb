{
 "cells": [
  {
   "cell_type": "markdown",
   "id": "b13051fa",
   "metadata": {},
   "source": [
    "# Clustering - Unsupervised Learning"
   ]
  },
  {
   "cell_type": "code",
   "execution_count": 3,
   "id": "1eb6d829",
   "metadata": {},
   "outputs": [],
   "source": [
    "import pandas as pd\n",
    "import warnings\n",
    "warnings.filterwarnings(\"ignore\")"
   ]
  },
  {
   "cell_type": "code",
   "execution_count": 4,
   "id": "909b1b4d",
   "metadata": {},
   "outputs": [],
   "source": [
    "df = pd.read_excel(\"cars.xls\")"
   ]
  },
  {
   "cell_type": "markdown",
   "id": "015fd38d",
   "metadata": {},
   "source": [
    "### <font color = green> EDA -Exploratory Data Analysis"
   ]
  },
  {
   "cell_type": "code",
   "execution_count": 3,
   "id": "8a03c3df",
   "metadata": {},
   "outputs": [
    {
     "data": {
      "text/html": [
       "<div>\n",
       "<style scoped>\n",
       "    .dataframe tbody tr th:only-of-type {\n",
       "        vertical-align: middle;\n",
       "    }\n",
       "\n",
       "    .dataframe tbody tr th {\n",
       "        vertical-align: top;\n",
       "    }\n",
       "\n",
       "    .dataframe thead th {\n",
       "        text-align: right;\n",
       "    }\n",
       "</style>\n",
       "<table border=\"1\" class=\"dataframe\">\n",
       "  <thead>\n",
       "    <tr style=\"text-align: right;\">\n",
       "      <th></th>\n",
       "      <th>Price</th>\n",
       "      <th>Mileage</th>\n",
       "      <th>Make</th>\n",
       "      <th>Model</th>\n",
       "      <th>Trim</th>\n",
       "      <th>Type</th>\n",
       "      <th>Cylinder</th>\n",
       "      <th>Liter</th>\n",
       "      <th>Doors</th>\n",
       "      <th>Cruise</th>\n",
       "      <th>Sound</th>\n",
       "      <th>Leather</th>\n",
       "    </tr>\n",
       "  </thead>\n",
       "  <tbody>\n",
       "    <tr>\n",
       "      <th>0</th>\n",
       "      <td>17314.103129</td>\n",
       "      <td>8221</td>\n",
       "      <td>Buick</td>\n",
       "      <td>Century</td>\n",
       "      <td>Sedan 4D</td>\n",
       "      <td>Sedan</td>\n",
       "      <td>6</td>\n",
       "      <td>3.1</td>\n",
       "      <td>4</td>\n",
       "      <td>1</td>\n",
       "      <td>1</td>\n",
       "      <td>1</td>\n",
       "    </tr>\n",
       "    <tr>\n",
       "      <th>1</th>\n",
       "      <td>17542.036083</td>\n",
       "      <td>9135</td>\n",
       "      <td>Buick</td>\n",
       "      <td>Century</td>\n",
       "      <td>Sedan 4D</td>\n",
       "      <td>Sedan</td>\n",
       "      <td>6</td>\n",
       "      <td>3.1</td>\n",
       "      <td>4</td>\n",
       "      <td>1</td>\n",
       "      <td>1</td>\n",
       "      <td>0</td>\n",
       "    </tr>\n",
       "    <tr>\n",
       "      <th>2</th>\n",
       "      <td>16218.847862</td>\n",
       "      <td>13196</td>\n",
       "      <td>Buick</td>\n",
       "      <td>Century</td>\n",
       "      <td>Sedan 4D</td>\n",
       "      <td>Sedan</td>\n",
       "      <td>6</td>\n",
       "      <td>3.1</td>\n",
       "      <td>4</td>\n",
       "      <td>1</td>\n",
       "      <td>1</td>\n",
       "      <td>0</td>\n",
       "    </tr>\n",
       "    <tr>\n",
       "      <th>3</th>\n",
       "      <td>16336.913140</td>\n",
       "      <td>16342</td>\n",
       "      <td>Buick</td>\n",
       "      <td>Century</td>\n",
       "      <td>Sedan 4D</td>\n",
       "      <td>Sedan</td>\n",
       "      <td>6</td>\n",
       "      <td>3.1</td>\n",
       "      <td>4</td>\n",
       "      <td>1</td>\n",
       "      <td>0</td>\n",
       "      <td>0</td>\n",
       "    </tr>\n",
       "    <tr>\n",
       "      <th>4</th>\n",
       "      <td>16339.170324</td>\n",
       "      <td>19832</td>\n",
       "      <td>Buick</td>\n",
       "      <td>Century</td>\n",
       "      <td>Sedan 4D</td>\n",
       "      <td>Sedan</td>\n",
       "      <td>6</td>\n",
       "      <td>3.1</td>\n",
       "      <td>4</td>\n",
       "      <td>1</td>\n",
       "      <td>0</td>\n",
       "      <td>1</td>\n",
       "    </tr>\n",
       "  </tbody>\n",
       "</table>\n",
       "</div>"
      ],
      "text/plain": [
       "          Price  Mileage   Make    Model      Trim   Type  Cylinder  Liter  \\\n",
       "0  17314.103129     8221  Buick  Century  Sedan 4D  Sedan         6    3.1   \n",
       "1  17542.036083     9135  Buick  Century  Sedan 4D  Sedan         6    3.1   \n",
       "2  16218.847862    13196  Buick  Century  Sedan 4D  Sedan         6    3.1   \n",
       "3  16336.913140    16342  Buick  Century  Sedan 4D  Sedan         6    3.1   \n",
       "4  16339.170324    19832  Buick  Century  Sedan 4D  Sedan         6    3.1   \n",
       "\n",
       "   Doors  Cruise  Sound  Leather  \n",
       "0      4       1      1        1  \n",
       "1      4       1      1        0  \n",
       "2      4       1      1        0  \n",
       "3      4       1      0        0  \n",
       "4      4       1      0        1  "
      ]
     },
     "execution_count": 3,
     "metadata": {},
     "output_type": "execute_result"
    }
   ],
   "source": [
    "df.head()"
   ]
  },
  {
   "cell_type": "code",
   "execution_count": 4,
   "id": "d3e88c86",
   "metadata": {},
   "outputs": [
    {
     "name": "stdout",
     "output_type": "stream",
     "text": [
      "<class 'pandas.core.frame.DataFrame'>\n",
      "RangeIndex: 804 entries, 0 to 803\n",
      "Data columns (total 12 columns):\n",
      " #   Column    Non-Null Count  Dtype  \n",
      "---  ------    --------------  -----  \n",
      " 0   Price     804 non-null    float64\n",
      " 1   Mileage   804 non-null    int64  \n",
      " 2   Make      804 non-null    object \n",
      " 3   Model     804 non-null    object \n",
      " 4   Trim      804 non-null    object \n",
      " 5   Type      804 non-null    object \n",
      " 6   Cylinder  804 non-null    int64  \n",
      " 7   Liter     804 non-null    float64\n",
      " 8   Doors     804 non-null    int64  \n",
      " 9   Cruise    804 non-null    int64  \n",
      " 10  Sound     804 non-null    int64  \n",
      " 11  Leather   804 non-null    int64  \n",
      "dtypes: float64(2), int64(6), object(4)\n",
      "memory usage: 75.5+ KB\n"
     ]
    }
   ],
   "source": [
    "df.info();"
   ]
  },
  {
   "cell_type": "code",
   "execution_count": 5,
   "id": "fc48b5b8",
   "metadata": {},
   "outputs": [],
   "source": [
    "from sklearn.cluster import KMeans"
   ]
  },
  {
   "cell_type": "code",
   "execution_count": 6,
   "id": "75fa939b",
   "metadata": {},
   "outputs": [],
   "source": [
    "from sklearn.metrics import silhouette_score\n",
    "#elbow method"
   ]
  },
  {
   "cell_type": "code",
   "execution_count": 7,
   "id": "354ef30f",
   "metadata": {},
   "outputs": [],
   "source": [
    "x = df[[\"Price\",\"Mileage\",\"Cylinder\"]]"
   ]
  },
  {
   "cell_type": "code",
   "execution_count": 8,
   "id": "4c8d3344",
   "metadata": {},
   "outputs": [],
   "source": [
    "model = KMeans(n_clusters=6)"
   ]
  },
  {
   "cell_type": "code",
   "execution_count": 9,
   "id": "df0452f7",
   "metadata": {},
   "outputs": [],
   "source": [
    "model = model.fit(x)"
   ]
  },
  {
   "cell_type": "code",
   "execution_count": 10,
   "id": "a453785c",
   "metadata": {},
   "outputs": [],
   "source": [
    "tahmin = model.predict(x)"
   ]
  },
  {
   "cell_type": "code",
   "execution_count": 11,
   "id": "619f053f",
   "metadata": {},
   "outputs": [],
   "source": [
    "x[\"cluster\"]=tahmin"
   ]
  },
  {
   "cell_type": "code",
   "execution_count": 12,
   "id": "0f4d9461",
   "metadata": {},
   "outputs": [
    {
     "data": {
      "text/html": [
       "<div>\n",
       "<style scoped>\n",
       "    .dataframe tbody tr th:only-of-type {\n",
       "        vertical-align: middle;\n",
       "    }\n",
       "\n",
       "    .dataframe tbody tr th {\n",
       "        vertical-align: top;\n",
       "    }\n",
       "\n",
       "    .dataframe thead th {\n",
       "        text-align: right;\n",
       "    }\n",
       "</style>\n",
       "<table border=\"1\" class=\"dataframe\">\n",
       "  <thead>\n",
       "    <tr style=\"text-align: right;\">\n",
       "      <th></th>\n",
       "      <th>Price</th>\n",
       "      <th>Mileage</th>\n",
       "      <th>Cylinder</th>\n",
       "      <th>cluster</th>\n",
       "    </tr>\n",
       "  </thead>\n",
       "  <tbody>\n",
       "    <tr>\n",
       "      <th>0</th>\n",
       "      <td>17314.103129</td>\n",
       "      <td>8221</td>\n",
       "      <td>6</td>\n",
       "      <td>5</td>\n",
       "    </tr>\n",
       "    <tr>\n",
       "      <th>1</th>\n",
       "      <td>17542.036083</td>\n",
       "      <td>9135</td>\n",
       "      <td>6</td>\n",
       "      <td>5</td>\n",
       "    </tr>\n",
       "    <tr>\n",
       "      <th>2</th>\n",
       "      <td>16218.847862</td>\n",
       "      <td>13196</td>\n",
       "      <td>6</td>\n",
       "      <td>5</td>\n",
       "    </tr>\n",
       "    <tr>\n",
       "      <th>3</th>\n",
       "      <td>16336.913140</td>\n",
       "      <td>16342</td>\n",
       "      <td>6</td>\n",
       "      <td>0</td>\n",
       "    </tr>\n",
       "    <tr>\n",
       "      <th>4</th>\n",
       "      <td>16339.170324</td>\n",
       "      <td>19832</td>\n",
       "      <td>6</td>\n",
       "      <td>0</td>\n",
       "    </tr>\n",
       "  </tbody>\n",
       "</table>\n",
       "</div>"
      ],
      "text/plain": [
       "          Price  Mileage  Cylinder  cluster\n",
       "0  17314.103129     8221         6        5\n",
       "1  17542.036083     9135         6        5\n",
       "2  16218.847862    13196         6        5\n",
       "3  16336.913140    16342         6        0\n",
       "4  16339.170324    19832         6        0"
      ]
     },
     "execution_count": 12,
     "metadata": {},
     "output_type": "execute_result"
    }
   ],
   "source": [
    "x.head()"
   ]
  },
  {
   "cell_type": "code",
   "execution_count": 13,
   "id": "addedf6d",
   "metadata": {},
   "outputs": [
    {
     "data": {
      "text/plain": [
       "0.3617021276673236"
      ]
     },
     "execution_count": 13,
     "metadata": {},
     "output_type": "execute_result"
    }
   ],
   "source": [
    "silhouette_score(x,tahmin)"
   ]
  },
  {
   "cell_type": "code",
   "execution_count": 14,
   "id": "88d38d55",
   "metadata": {},
   "outputs": [],
   "source": [
    "import matplotlib.pyplot as plt"
   ]
  },
  {
   "cell_type": "code",
   "execution_count": 15,
   "id": "0932b9ae",
   "metadata": {},
   "outputs": [
    {
     "data": {
      "image/png": "[encoded data removed]",
      "text/plain": [
       "<Figure size 720x288 with 2 Axes>"
      ]
     },
     "metadata": {
      "needs_background": "light"
     },
     "output_type": "display_data"
    }
   ],
   "source": [
    "plt.figure(figsize=(10,4))\n",
    "plt.scatter(x.Mileage,x.Price,c=tahmin)\n",
    "plt.xlabel(\"Mileage\")\n",
    "plt.ylabel(\"Price\")\n",
    "plt.colorbar()\n",
    "plt.grid()"
   ]
  },
  {
   "cell_type": "code",
   "execution_count": 16,
   "id": "1573cce8",
   "metadata": {},
   "outputs": [],
   "source": [
    "allscore=[]\n",
    "allclusters=[]\n",
    "distances=[]\n",
    "def clust(kactane):\n",
    "    for i in range(2,kactane+1):\n",
    "        model = KMeans(n_clusters=i)\n",
    "        model =  model.fit(x)\n",
    "        tahmin = model.predict(x)\n",
    "        score = silhouette_score(x,tahmin)\n",
    "        distance = model.inertia_\n",
    "        print(\"Cluster\" ,i,\"score : \",score)\n",
    "        allscore.append(score)\n",
    "        allclusters.append(i)\n",
    "        distances.append(distance)"
   ]
  },
  {
   "cell_type": "code",
   "execution_count": 17,
   "id": "25fc3067",
   "metadata": {},
   "outputs": [
    {
     "name": "stdout",
     "output_type": "stream",
     "text": [
      "Cluster 2 score :  0.4511454097487437\n",
      "Cluster 3 score :  0.4132108616381254\n",
      "Cluster 4 score :  0.41406284305622254\n",
      "Cluster 5 score :  0.3549906702176871\n",
      "Cluster 6 score :  0.3618797163859733\n",
      "Cluster 7 score :  0.35699137125241037\n",
      "Cluster 8 score :  0.36616940696848244\n",
      "Cluster 9 score :  0.3497670698321013\n",
      "Cluster 10 score :  0.35266286267132646\n"
     ]
    }
   ],
   "source": [
    "clust(10)\n",
    "#değişmeyi bıraktığı yerde durmamız gerekiyor"
   ]
  },
  {
   "cell_type": "code",
   "execution_count": 18,
   "id": "cbd438d7",
   "metadata": {},
   "outputs": [
    {
     "data": {
      "text/plain": [
       "[<matplotlib.lines.Line2D at 0x1d499ebb2e0>]"
      ]
     },
     "execution_count": 18,
     "metadata": {},
     "output_type": "execute_result"
    },
    {
     "data": {
      "image/png": "[encoded data removed]",
      "text/plain": [
       "<Figure size 432x288 with 1 Axes>"
      ]
     },
     "metadata": {
      "needs_background": "light"
     },
     "output_type": "display_data"
    }
   ],
   "source": [
    "plt.xlabel(\"Clusture\")\n",
    "plt.ylabel(\"Distance\")\n",
    "plt.plot(allclusters,distances)\n",
    "#4 noktasında kırılmış"
   ]
  },
  {
   "cell_type": "code",
   "execution_count": 19,
   "id": "6ab8002f",
   "metadata": {},
   "outputs": [],
   "source": [
    "#elbow methodunun gösterdiği üzzere veriyi\n",
    "#4 farklı kümede toplamanın en ideal yol olduğunu düşünmekteyiz"
   ]
  }
 ],
 "metadata": {
  "kernelspec": {
   "display_name": "Python 3 (ipykernel)",
   "language": "python",
   "name": "python3"
  },
  "language_info": {
   "codemirror_mode": {
    "name": "ipython",
    "version": 3
   },
   "file_extension": ".py",
   "mimetype": "text/x-python",
   "name": "python",
   "nbconvert_exporter": "python",
   "pygments_lexer": "ipython3",
   "version": "3.9.12"
  }
 },
 "nbformat": 4,
 "nbformat_minor": 5
}
